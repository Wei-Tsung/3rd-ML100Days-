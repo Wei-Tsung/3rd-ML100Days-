{
 "cells": [
  {
   "cell_type": "markdown",
   "metadata": {},
   "source": [
    "## [作業目標]\n",
    "了解機器學習適合應用的領域與範疇。"
   ]
  },
  {
   "cell_type": "markdown",
   "metadata": {},
   "source": [
    "## [作業重點]\n",
    "透過瞭解機器學習的運作方式，找出非常適用機器學習應用的領域及其原因"
   ]
  },
  {
   "cell_type": "markdown",
   "metadata": {},
   "source": [
    "## 作業\n",
    "請找出一個你認為機器學習可以發光發熱的領域並闡述原因? "
   ]
  },
  {
   "cell_type": "code",
   "execution_count": null,
   "metadata": {},
   "outputs": [],
   "source": [
    "#1.製藥業 金融業 醫療業 這三個是變革最有潛力的領域\n",
    "\"\"\"\n",
    "若以當前的製藥業為舉例 , 一般開發一個新藥需要非常漫長的開發時間 短則10年 長達20~30年以上\n",
    "那些需要藥物的病患可能就已經死去了 ;\n",
    "\n",
    "再加上藥物因為要耗費巨資和時間開發 卻不一定有成果或為公司帶來利潤 , 若真的成功開發出來新的藥物\n",
    "又必須要在專利保護期限內賺取回來才能長久經營 所以售價會變得很高昂 \n",
    "讓那些真正需要藥物的病患完全負擔不起\n",
    "\n",
    "但是使用大數據和機器學習的方法做研究  可以使用單純相關性而非執著於因果關係\n",
    "來尋找藥品開發的方向  可以大幅度的降低開發的時間\n",
    "\n",
    "再加上藥品若開發出來 在過去是以取藥品平均值的方式工廠標準化的方式大規模生產 , 生產出來的藥品\n",
    "藥效可能無法那麼精準 ;\n",
    "\n",
    "在機器學習的時代 , 卻有可能可以依照每個病患的生理數據 體質 心跳 血壓 年齡或是病史等等的醫療紀錄\n",
    "來達到客製化生產  包含著精確病患訊息數據的藥物  , 以達到精準醫療的功效\n",
    "\n",
    "\n",
    "\"\"\""
   ]
  }
 ],
 "metadata": {
  "kernelspec": {
   "display_name": "Python 3",
   "language": "python",
   "name": "python3"
  },
  "language_info": {
   "codemirror_mode": {
    "name": "ipython",
    "version": 3
   },
   "file_extension": ".py",
   "mimetype": "text/x-python",
   "name": "python",
   "nbconvert_exporter": "python",
   "pygments_lexer": "ipython3",
   "version": "3.6.5"
  }
 },
 "nbformat": 4,
 "nbformat_minor": 2
}
